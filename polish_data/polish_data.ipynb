{
 "cells": [
  {
   "cell_type": "markdown",
   "metadata": {},
   "source": [
    "# Loading Dataset"
   ]
  },
  {
   "cell_type": "code",
   "execution_count": 1,
   "metadata": {},
   "outputs": [
    {
     "name": "stdout",
     "output_type": "stream",
     "text": [
      "((7027, 65), (10173, 65), (10503, 65), (9792, 65), (5910, 65))\n"
     ]
    }
   ],
   "source": [
    "import pandas as pd\n",
    "import numpy as np\n",
    "import matplotlib.pyplot as plt\n",
    "import seaborn as sns\n",
    "\n",
    "names = []\n",
    "for i in range(1,66):\n",
    "    names.append('X'+str(i))\n",
    "    \n",
    "year_1 = pd.read_csv('./data/1year.csv', low_memory=False, names=names)\n",
    "year_2 = pd.read_csv('./data/2year.csv', low_memory=False, names=names)\n",
    "year_3 = pd.read_csv('./data/3year.csv', low_memory=False, names=names)\n",
    "year_4 = pd.read_csv('./data/4year.csv', low_memory=False, names=names)\n",
    "year_5 = pd.read_csv('./data/5year.csv', low_memory=False, names=names)\n",
    "\n",
    "print(year_1.shape, year_2.shape, year_3.shape, year_4.shape, year_5.shape)"
   ]
  },
  {
   "cell_type": "markdown",
   "metadata": {},
   "source": [
    "Notice that the number of columns in each dataframe is same(65), hence, we can combine all the dataset to a large single dataset.\n",
    "Also, we drop the duplicates in the datasets."
   ]
  },
  {
   "cell_type": "code",
   "execution_count": 2,
   "metadata": {},
   "outputs": [
    {
     "data": {
      "text/plain": [
       "(43004, 65)"
      ]
     },
     "execution_count": 2,
     "metadata": {},
     "output_type": "execute_result"
    }
   ],
   "source": [
    "datasets = [year_1, year_2, year_3, year_4, year_5]\n",
    "dataframe = pd.concat(datasets, axis=0).drop_duplicates().reset_index(drop=True)\n",
    "dataframe.shape"
   ]
  },
  {
   "cell_type": "code",
   "execution_count": 3,
   "metadata": {},
   "outputs": [
    {
     "data": {
      "text/html": [
       "<div>\n",
       "<style>\n",
       "    .dataframe thead tr:only-child th {\n",
       "        text-align: right;\n",
       "    }\n",
       "\n",
       "    .dataframe thead th {\n",
       "        text-align: left;\n",
       "    }\n",
       "\n",
       "    .dataframe tbody tr th {\n",
       "        vertical-align: top;\n",
       "    }\n",
       "</style>\n",
       "<table border=\"1\" class=\"dataframe\">\n",
       "  <thead>\n",
       "    <tr style=\"text-align: right;\">\n",
       "      <th></th>\n",
       "      <th>X1</th>\n",
       "      <th>X2</th>\n",
       "      <th>X3</th>\n",
       "      <th>X4</th>\n",
       "      <th>X5</th>\n",
       "      <th>X6</th>\n",
       "      <th>X7</th>\n",
       "      <th>X8</th>\n",
       "      <th>X9</th>\n",
       "      <th>X10</th>\n",
       "      <th>...</th>\n",
       "      <th>X56</th>\n",
       "      <th>X57</th>\n",
       "      <th>X58</th>\n",
       "      <th>X59</th>\n",
       "      <th>X60</th>\n",
       "      <th>X61</th>\n",
       "      <th>X62</th>\n",
       "      <th>X63</th>\n",
       "      <th>X64</th>\n",
       "      <th>X65</th>\n",
       "    </tr>\n",
       "  </thead>\n",
       "  <tbody>\n",
       "    <tr>\n",
       "      <th>0</th>\n",
       "      <td>0.20055</td>\n",
       "      <td>0.37951</td>\n",
       "      <td>0.39641</td>\n",
       "      <td>2.0472</td>\n",
       "      <td>32.351</td>\n",
       "      <td>0.38825</td>\n",
       "      <td>0.24976</td>\n",
       "      <td>1.3305</td>\n",
       "      <td>1.1389</td>\n",
       "      <td>0.50494</td>\n",
       "      <td>...</td>\n",
       "      <td>0.12196</td>\n",
       "      <td>0.39718</td>\n",
       "      <td>0.87804</td>\n",
       "      <td>0.001924</td>\n",
       "      <td>8.416</td>\n",
       "      <td>5.1372</td>\n",
       "      <td>82.658</td>\n",
       "      <td>4.4158</td>\n",
       "      <td>7.4277</td>\n",
       "      <td>0</td>\n",
       "    </tr>\n",
       "    <tr>\n",
       "      <th>1</th>\n",
       "      <td>0.20912</td>\n",
       "      <td>0.49988</td>\n",
       "      <td>0.47225</td>\n",
       "      <td>1.9447</td>\n",
       "      <td>14.786</td>\n",
       "      <td>0</td>\n",
       "      <td>0.25834</td>\n",
       "      <td>0.99601</td>\n",
       "      <td>1.6996</td>\n",
       "      <td>0.49788</td>\n",
       "      <td>...</td>\n",
       "      <td>0.1213</td>\n",
       "      <td>0.42002</td>\n",
       "      <td>0.853</td>\n",
       "      <td>0</td>\n",
       "      <td>4.1486</td>\n",
       "      <td>3.2732</td>\n",
       "      <td>107.35</td>\n",
       "      <td>3.4</td>\n",
       "      <td>60.987</td>\n",
       "      <td>0</td>\n",
       "    </tr>\n",
       "    <tr>\n",
       "      <th>2</th>\n",
       "      <td>0.24866</td>\n",
       "      <td>0.69592</td>\n",
       "      <td>0.26713</td>\n",
       "      <td>1.5548</td>\n",
       "      <td>-1.1523</td>\n",
       "      <td>0</td>\n",
       "      <td>0.30906</td>\n",
       "      <td>0.43695</td>\n",
       "      <td>1.309</td>\n",
       "      <td>0.30408</td>\n",
       "      <td>...</td>\n",
       "      <td>0.24114</td>\n",
       "      <td>0.81774</td>\n",
       "      <td>0.76599</td>\n",
       "      <td>0.69484</td>\n",
       "      <td>4.9909</td>\n",
       "      <td>3.951</td>\n",
       "      <td>134.27</td>\n",
       "      <td>2.7185</td>\n",
       "      <td>5.2078</td>\n",
       "      <td>0</td>\n",
       "    </tr>\n",
       "    <tr>\n",
       "      <th>3</th>\n",
       "      <td>0.081483</td>\n",
       "      <td>0.30734</td>\n",
       "      <td>0.45879</td>\n",
       "      <td>2.4928</td>\n",
       "      <td>51.952</td>\n",
       "      <td>0.14988</td>\n",
       "      <td>0.092704</td>\n",
       "      <td>1.8661</td>\n",
       "      <td>1.0571</td>\n",
       "      <td>0.57353</td>\n",
       "      <td>...</td>\n",
       "      <td>0.054015</td>\n",
       "      <td>0.14207</td>\n",
       "      <td>0.94598</td>\n",
       "      <td>0</td>\n",
       "      <td>4.5746</td>\n",
       "      <td>3.6147</td>\n",
       "      <td>86.435</td>\n",
       "      <td>4.2228</td>\n",
       "      <td>5.5497</td>\n",
       "      <td>0</td>\n",
       "    </tr>\n",
       "    <tr>\n",
       "      <th>4</th>\n",
       "      <td>0.18732</td>\n",
       "      <td>0.61323</td>\n",
       "      <td>0.2296</td>\n",
       "      <td>1.4063</td>\n",
       "      <td>-7.3128</td>\n",
       "      <td>0.18732</td>\n",
       "      <td>0.18732</td>\n",
       "      <td>0.6307</td>\n",
       "      <td>1.1559</td>\n",
       "      <td>0.38677</td>\n",
       "      <td>...</td>\n",
       "      <td>0.13485</td>\n",
       "      <td>0.48431</td>\n",
       "      <td>0.86515</td>\n",
       "      <td>0.12444</td>\n",
       "      <td>6.3985</td>\n",
       "      <td>4.3158</td>\n",
       "      <td>127.21</td>\n",
       "      <td>2.8692</td>\n",
       "      <td>7.898</td>\n",
       "      <td>0</td>\n",
       "    </tr>\n",
       "  </tbody>\n",
       "</table>\n",
       "<p>5 rows × 65 columns</p>\n",
       "</div>"
      ],
      "text/plain": [
       "         X1       X2       X3      X4       X5       X6        X7       X8  \\\n",
       "0   0.20055  0.37951  0.39641  2.0472   32.351  0.38825   0.24976   1.3305   \n",
       "1   0.20912  0.49988  0.47225  1.9447   14.786        0   0.25834  0.99601   \n",
       "2   0.24866  0.69592  0.26713  1.5548  -1.1523        0   0.30906  0.43695   \n",
       "3  0.081483  0.30734  0.45879  2.4928   51.952  0.14988  0.092704   1.8661   \n",
       "4   0.18732  0.61323   0.2296  1.4063  -7.3128  0.18732   0.18732   0.6307   \n",
       "\n",
       "       X9      X10 ...       X56      X57      X58       X59     X60     X61  \\\n",
       "0  1.1389  0.50494 ...   0.12196  0.39718  0.87804  0.001924   8.416  5.1372   \n",
       "1  1.6996  0.49788 ...    0.1213  0.42002    0.853         0  4.1486  3.2732   \n",
       "2   1.309  0.30408 ...   0.24114  0.81774  0.76599   0.69484  4.9909   3.951   \n",
       "3  1.0571  0.57353 ...  0.054015  0.14207  0.94598         0  4.5746  3.6147   \n",
       "4  1.1559  0.38677 ...   0.13485  0.48431  0.86515   0.12444  6.3985  4.3158   \n",
       "\n",
       "      X62     X63     X64 X65  \n",
       "0  82.658  4.4158  7.4277   0  \n",
       "1  107.35     3.4  60.987   0  \n",
       "2  134.27  2.7185  5.2078   0  \n",
       "3  86.435  4.2228  5.5497   0  \n",
       "4  127.21  2.8692   7.898   0  \n",
       "\n",
       "[5 rows x 65 columns]"
      ]
     },
     "execution_count": 3,
     "metadata": {},
     "output_type": "execute_result"
    }
   ],
   "source": [
    "dataframe.head()"
   ]
  },
  {
   "cell_type": "markdown",
   "metadata": {},
   "source": [
    "# Handling Missing Values\n"
   ]
  },
  {
   "cell_type": "markdown",
   "metadata": {},
   "source": [
    "Seperating the numerical and categorical data."
   ]
  },
  {
   "cell_type": "code",
   "execution_count": 4,
   "metadata": {
    "scrolled": true
   },
   "outputs": [
    {
     "data": {
      "text/plain": [
       "<bound method DataFrame._get_numeric_data of               X1        X2         X3       X4        X5         X6  \\\n",
       "0        0.20055   0.37951    0.39641   2.0472    32.351    0.38825   \n",
       "1        0.20912   0.49988    0.47225   1.9447    14.786          0   \n",
       "2        0.24866   0.69592    0.26713   1.5548   -1.1523          0   \n",
       "3       0.081483   0.30734    0.45879   2.4928    51.952    0.14988   \n",
       "4        0.18732   0.61323     0.2296   1.4063   -7.3128    0.18732   \n",
       "5        0.22822   0.49794    0.35969   1.7502   -47.717          0   \n",
       "6        0.11109   0.64744    0.28971   1.4705    2.5349          0   \n",
       "7        0.53232  0.027059    0.70554   53.954    299.58          0   \n",
       "8        0.00902   0.63202   0.053735   1.1263   -37.842          0   \n",
       "9        0.12408   0.83837    0.14204   1.1694   -91.883          0   \n",
       "10       0.24001   0.44355    0.18835     1.44   -21.165    -0.9319   \n",
       "11     -0.027117   0.11148    0.11989   2.0754   -31.643  -0.084883   \n",
       "12       0.26669   0.34994    0.61147   3.0243    43.087    0.55983   \n",
       "13      0.067731   0.19885   0.081562   2.9576    90.606    0.21265   \n",
       "14     -0.029182   0.21131    0.45264   7.5746    57.844   0.010387   \n",
       "15     -0.033801     1.154   -0.20599   0.8215   -74.451   -0.10413   \n",
       "16       0.27053   0.29913     0.4687   2.5669    73.395    0.72793   \n",
       "17      0.028084   0.24231    0.43224   3.0128    47.935   0.021598   \n",
       "18       0.20393   0.56037    0.13495   1.2408     3.158          0   \n",
       "19       0.20876    0.4965    0.42548    2.019    38.934   0.005436   \n",
       "20       0.11119   0.63174    0.24796        2    58.154    0.24347   \n",
       "21      -0.30505    1.2523   -0.29222  0.71426   -214.91   -0.30505   \n",
       "22       0.12709    0.5305    0.38069   1.7198   -27.618          0   \n",
       "23       0.12624   0.66286    0.21916   1.3553    21.588   0.020227   \n",
       "24       0.29264   0.29252    0.34415    2.327    108.07          0   \n",
       "25      0.079997   0.23967    0.32124   2.4739    8.1087    0.20743   \n",
       "26       0.20817    0.6024    0.47935   2.1883    69.659          0   \n",
       "27       0.26345   0.14318    0.61965   5.3277    198.95    0.55971   \n",
       "28     -0.054623   0.92857  -0.026927  0.94263   -87.724  -0.054623   \n",
       "29      -0.35884    1.1171   -0.46577  0.46115   -152.21    -1.1752   \n",
       "...          ...       ...        ...      ...       ...        ...   \n",
       "42974          ?         ?          ?        0  -1076400          ?   \n",
       "42975   -0.11856   0.26668    0.65911   3.7154   -13.071    -1.1099   \n",
       "42976    -0.3777    5.1196    -4.5447  0.11229   -613.86    -0.3777   \n",
       "42977   -0.36555   0.38156    0.11993   1.3292   -21.633   -0.36555   \n",
       "42978   -0.90708   0.26518  -0.015367  0.90474   -12.691          0   \n",
       "42979    -2.4099    5.5369    -4.5369  0.18061   -239.52    -3.7227   \n",
       "42980   -0.13176   0.85212    -0.1409   0.7114   -44.537          0   \n",
       "42981   0.022228   0.43704   -0.34545  0.20957   -625.92   0.022228   \n",
       "42982   -0.13135   0.91209  -0.046074  0.94943   -94.089          0   \n",
       "42983   0.002669   0.47659    0.23826   1.4999   -19.192          0   \n",
       "42984   0.097567   0.17856    0.46554   3.6072    49.349          0   \n",
       "42985   -0.10004   0.20498    0.53852   3.6271   -58.411   -0.10004   \n",
       "42986    0.11235    1.7399   -0.51425  0.43445   -82.297   -0.32201   \n",
       "42987  -0.089739      1.33   -0.31468  0.67454   -124.53    -1.2607   \n",
       "42988  -0.043676    1.0947    -0.1058  0.90335   -184.28  -0.074932   \n",
       "42989   -0.25487   0.74512  -0.092301  0.87613   -34.191     0.1295   \n",
       "42990  -0.098161    1.2026   -0.41488  0.59535   -46.428   -0.38278   \n",
       "42991   -0.12098   0.64802    0.35198   1.5432     8.746          0   \n",
       "42992    -3.0463    6.9069     -5.997  0.13174   -137.27    -3.7376   \n",
       "42993   -0.37047    1.2992   -0.67777  0.47802   -207.02   -0.47654   \n",
       "42994    0.36147    0.2559    0.56276   9.7593    205.98   -0.32597   \n",
       "42995  -0.084381   0.22485   0.097051   1.4316   -119.22  -0.084381   \n",
       "42996   0.059436   0.54161    0.37672   2.0192    26.665   -0.27501   \n",
       "42997  -0.076836   0.51194     0.1966   1.3859   -133.38  -0.076836   \n",
       "42998   -0.28338   0.97794   -0.12514  0.64902   -56.126    -1.3298   \n",
       "42999   0.012898   0.70621   0.038857   1.1722   -18.907          0   \n",
       "43000   -0.57805   0.96702   -0.80085  0.16576   -67.365   -0.57805   \n",
       "43001   -0.17905    1.2553   -0.27599  0.74554   -120.44   -0.17905   \n",
       "43002   -0.10886   0.74394   0.015449   1.0878   -17.003   -0.10886   \n",
       "43003   -0.10537   0.53629  -0.045578  0.91478   -56.068   -0.10537   \n",
       "\n",
       "              X7         X8       X9        X10 ...       X56        X57  \\\n",
       "0        0.24976     1.3305   1.1389    0.50494 ...   0.12196    0.39718   \n",
       "1        0.25834    0.99601   1.6996    0.49788 ...    0.1213    0.42002   \n",
       "2        0.30906    0.43695    1.309    0.30408 ...   0.24114    0.81774   \n",
       "3       0.092704     1.8661   1.0571    0.57353 ...  0.054015    0.14207   \n",
       "4        0.18732     0.6307   1.1559    0.38677 ...   0.13485    0.48431   \n",
       "5        0.28139     1.0083   1.9786    0.50206 ...   0.13932    0.45457   \n",
       "6        0.11109    0.54454   1.7348    0.35256 ...    0.6059     0.3151   \n",
       "7         0.6524     35.957  0.65273    0.97294 ...   0.08673    0.54713   \n",
       "8       0.014434    0.58223   1.3332    0.36798 ...   0.18011   0.024512   \n",
       "9        0.15328    0.19279   2.1156    0.16163 ...  0.079665    0.76768   \n",
       "10       0.24001     1.2545   4.7447    0.55645 ...   0.35359    0.43132   \n",
       "11       -0.0243     7.6741  0.90732    0.85551 ...  -0.10214  -0.031697   \n",
       "12       0.33207     1.8577   1.1268    0.65006 ...    0.1125    0.41025   \n",
       "13      0.078063      4.029    1.257    0.80115 ...   0.20444   0.084542   \n",
       "14     -0.034653     3.7324   1.0241    0.78869 ...  0.023565  -0.037001   \n",
       "15     -0.033801     -0.159  0.97767   -0.18349 ... -0.022837    0.18421   \n",
       "16       0.33619     2.2315   1.2214     0.6675 ...   0.18127    0.40529   \n",
       "17      0.039729     3.1037   1.0125    0.75206 ...  0.012367   0.037342   \n",
       "18       0.24291    0.78452   2.2706    0.43963 ...    0.1077    0.46386   \n",
       "19       0.25619     1.0141   2.2827     0.5035 ...   0.11299    0.41462   \n",
       "20       0.13909    0.58294  0.99034    0.36826 ...   0.15254    0.30192   \n",
       "21      -0.30505   -0.25344  0.77037   -0.31738 ...  -0.29809    0.96115   \n",
       "22       0.15611      0.885   2.1322     0.4695 ...  0.053878    0.27068   \n",
       "23       0.15633    0.50862    1.713    0.33714 ...  0.089183    0.37445   \n",
       "24       0.36131     2.4185   1.2512    0.70748 ...   0.28692    0.41365   \n",
       "25      0.069715     2.5466   1.0556    0.61034 ...  0.052697    0.13107   \n",
       "26       0.25911    0.66002   1.6923     0.3976 ...   0.18242    0.52357   \n",
       "27       0.32142     5.8624   1.3437     0.8394 ...   0.25578    0.31385   \n",
       "28     -0.054623   0.074796  0.92301   0.069453 ... -0.083417   -0.78648   \n",
       "29      -0.35884   -0.11206  0.97154   -0.12518 ... -0.029298     2.8666   \n",
       "...          ...        ...      ...        ... ...       ...        ...   \n",
       "42974          ?          0   7.2533          ? ...   0.43961          ?   \n",
       "42975   -0.11856     2.7498   1.1914    0.73332 ...   0.27079   -0.16168   \n",
       "42976    -0.3777   -0.86696  0.98755    -4.4385 ...  -0.01261   0.085096   \n",
       "42977    -0.3676     1.4817  0.82275    0.56535 ...  -0.21544    -0.6466   \n",
       "42978   -0.90708      2.771  0.67575    0.73482 ...  -0.47858    -1.2344   \n",
       "42979    -2.4099   -0.81939   5.5631    -4.5369 ...  -0.32899    0.53118   \n",
       "42980   -0.13196    0.17355     1.51    0.14788 ...  -0.12608     -0.891   \n",
       "42981   0.022228     1.1272   1.0998    0.49265 ...  0.090725   0.045119   \n",
       "42982   -0.13914   0.096391   2.1546   0.087917 ... -0.050162     -1.494   \n",
       "42983   0.004038     1.0982   2.8242    0.52341 ...   0.40128   0.005099   \n",
       "42984   0.097567     4.6002   2.6758    0.82141 ...  0.056797    0.11878   \n",
       "42985  -0.077304     3.7237  0.51043     0.7633 ...  -0.95912   -0.13107   \n",
       "42986    0.11235   -0.42524   3.4144   -0.73987 ... -0.020766   -0.15185   \n",
       "42987  -0.089739   -0.24799   2.2327   -0.32981 ...    0.2203    0.27209   \n",
       "42988  -0.043657  -0.086284  0.79372  -0.094454 ... -0.043822    0.46241   \n",
       "42989   -0.25487    0.34207   2.9631    0.25488 ... -0.086068   -0.99994   \n",
       "42990  -0.087177    -0.1683   3.3709   -0.20239 ... -0.044658    0.48501   \n",
       "42991   -0.12098    0.54305   8.4055    0.35191 ... -0.022887   -0.34378   \n",
       "42992    -3.0463   -0.85496   13.477    -5.9051 ...  -0.19105    0.51587   \n",
       "42993   -0.37047   -0.23037  0.95927   -0.29929 ...  -0.38653     1.2378   \n",
       "42994    0.51634      2.907  0.59282    0.74391 ...  -0.15578    0.48591   \n",
       "42995  -0.084381     2.7418  0.76553     0.6165 ...  -0.30628   -0.13687   \n",
       "42996   0.059436     0.8465   2.2643    0.45847 ...   0.17009    0.12964   \n",
       "42997  -0.074938    -0.2459     1.03   -0.12589 ...  0.029134    0.61036   \n",
       "42998   -0.28338   0.022514   1.3943   0.022018 ...  0.032555    -12.871   \n",
       "42999   0.013981      0.416   1.6768    0.29379 ...  0.020169   0.043904   \n",
       "43000   -0.57805   -0.40334  0.93979   -0.39004 ... -0.064073      1.482   \n",
       "43001   -0.15493   -0.26018   1.1749   -0.32659 ...   0.14888    0.54824   \n",
       "43002   -0.10918    0.12531  0.84516   0.093224 ...   -0.1832    -1.1677   \n",
       "43003   -0.10994     0.8646   0.9504    0.46367 ... -0.052186   -0.22725   \n",
       "\n",
       "           X58        X59     X60     X61     X62       X63      X64 X65  \n",
       "0      0.87804   0.001924   8.416  5.1372  82.658    4.4158   7.4277   0  \n",
       "1        0.853          0  4.1486  3.2732  107.35       3.4   60.987   0  \n",
       "2      0.76599    0.69484  4.9909   3.951  134.27    2.7185   5.2078   0  \n",
       "3      0.94598          0  4.5746  3.6147  86.435    4.2228   5.5497   0  \n",
       "4      0.86515    0.12444  6.3985  4.3158  127.21    2.8692    7.898   0  \n",
       "5      0.85891   0.023002  3.4028  8.9949  88.444    4.1269   12.299   0  \n",
       "6      0.40871          0  6.3222  2.9098  129.55    2.8173   18.352   0  \n",
       "7      0.49521   0.013194    9.13   82.05  7.4503    48.991   2.3217   0  \n",
       "8      0.84165    0.34094  9.9665  4.2382   116.5     3.133   2.5603   0  \n",
       "9      0.92847          0  3.3192  6.4994  144.63    2.5236   107.67   0  \n",
       "10     0.64794          0  16.571  17.087  32.928    11.085   12.369   0  \n",
       "11      1.1021          0  3.6683  13.461  76.732    4.7568  0.68991   0  \n",
       "12      0.8875    0.07363  9.5593  5.6298  38.168    9.5629   33.413   0  \n",
       "13     0.79556    0.19619  8.2122  2.7917  60.218    6.0613  0.28803   0  \n",
       "14     0.97644    0.18063  3.4646  11.338  31.807    11.475   1.6511   0  \n",
       "15      1.0228          0  8.2894  3.9519  182.81    1.9966   44.296   0  \n",
       "16     0.81873          0  11.066  4.1474  60.297    6.0534    7.799   0  \n",
       "17     0.98763   0.036647  10.074  12.378  41.485    8.7984   5.3523   0  \n",
       "18     0.89419          0  24.979  10.767   90.08    4.0519   7.4525   0  \n",
       "19     0.88859   0.046947  12.673  4.5996  66.764     5.467   14.542   0  \n",
       "20     0.86275     1.0307  9.7941  2.6129  91.388     3.994   1.9652   0  \n",
       "21      1.2981   -0.72353  2.4756  2.3377  447.81   0.81507   3.0925   0  \n",
       "22     0.92918          0   4.036  5.9864   90.54    4.0314   23.587   0  \n",
       "23     0.90914    0.11041  13.563  2.4747  131.42    2.7774    10.44   0  \n",
       "24     0.71408          0   15.34  2.4188  75.653    4.8247   3.1556   0  \n",
       "25      0.9473   0.035588  6.1579  10.219  45.422    8.0358   3.8007   0  \n",
       "26     0.84731          0  8.3634  2.6362   87.01    4.1949   14.434   0  \n",
       "27     0.74422          0  8.1287  4.0062  43.821    8.3294   5.0286   0  \n",
       "28      1.0834     6.6114  4.7055  3.1662  226.76    1.6096   1.3551   0  \n",
       "29      1.0293     -2.019  8.9776  11.507  197.43    1.8488   2.6572   0  \n",
       "...        ...        ...     ...     ...     ...       ...      ...  ..  \n",
       "42974  0.13787          ?  4.8356       ?   25077  0.014555        ?   1  \n",
       "42975   0.7295          0  1.8075  6.9348  74.366    4.9081   12.132   1  \n",
       "42976   1.0126          0  9.7382    9.97  660.16    0.5529   6.6584   1  \n",
       "42977   1.2154   0.030513  8.6829  9.0708  68.562    5.3237   3.7604   1  \n",
       "42978   2.2589          0  30.584   9.762   87.13    4.1891  0.79123   1  \n",
       "42979   1.3856          0  7.6222  21.337  363.28    1.0047        ?   1  \n",
       "42980    1.074     1.0905  29.817  5.4249  118.02    3.0928   2.3137   1  \n",
       "42981  0.90928          0       ?  4.4112   681.9   0.53527   0.2575   1  \n",
       "42982   1.0505   0.010299  4.1145  7.2471  154.36    2.3647   15.972   1  \n",
       "42983  0.59856          0  7.2839  8.6686  61.595    5.9258   9.9045   1  \n",
       "42984  0.96327          0  24.103  8.1366  24.357    14.986   7.5185   1  \n",
       "42985   1.9591          0  2.5671  2.3404  270.31    1.3503   1.0793   1  \n",
       "42986  0.96072    -1.1226  12.969  32.404  97.205    3.7549   5.6438   1  \n",
       "42987  0.79435   -0.42873  4.9425  15.468  158.06    2.3092   6.4195   1  \n",
       "42988   1.0467          0  2.4797  1.8274   503.4   0.72507   71.935   1  \n",
       "42989   1.0861          0  13.889  7.0327  91.786    3.9766   8.5346   1  \n",
       "42990   1.0252          0  101.42  6.4053  111.02    3.2877   8.6523   1  \n",
       "42991   1.0146          0  64.656  10.847   28.14    12.971        ?   1  \n",
       "42992   1.2016          0  86.664  18.451  187.06    1.9512   149.58   1  \n",
       "42993   1.3642          0  12.096  1.7817  494.06   0.73878   2.5257   1  \n",
       "42994  0.57244          0  3.3617  8.7628  39.557    9.2272   1.5902   1  \n",
       "42995   1.3063          0  1.7854  8.8316  226.37    1.6124  0.53491   1  \n",
       "42996  0.82727    0.37511  10.628  4.3093  59.584    6.1258   8.9302   1  \n",
       "42997  0.97087  -0.020175  1.9645   21.37   155.1    2.3534   4.0777   1  \n",
       "42998  0.97208     24.893  9.8129  16.691  93.338    3.9105   1.8143   1  \n",
       "42999   1.0122     1.2594  13.472  12.432  49.117    7.4313   2.2799   1  \n",
       "43000   1.0641  -0.018084  110.72  44.759   81.22     4.494   5.1305   1  \n",
       "43001  0.85112   -0.52243  9.8526  3.4892  207.87    1.7559   9.9527   1  \n",
       "43002   1.1832     6.0924  13.886  6.0769  83.122    4.3911  0.95575   1  \n",
       "43003   1.0522   0.003196  7.7332  4.7174  136.85    2.6672   2.7927   1  \n",
       "\n",
       "[43004 rows x 65 columns]>"
      ]
     },
     "execution_count": 4,
     "metadata": {},
     "output_type": "execute_result"
    }
   ],
   "source": [
    "dataframe._get_numeric_data"
   ]
  },
  {
   "cell_type": "markdown",
   "metadata": {},
   "source": [
    "Notice the number of rows and columns in the result.It has 65 columns.\n",
    "Hence, there are no categorical data and only numerical features."
   ]
  },
  {
   "cell_type": "code",
   "execution_count": 5,
   "metadata": {
    "scrolled": true
   },
   "outputs": [
    {
     "name": "stdout",
     "output_type": "stream",
     "text": [
      "True\n",
      "False\n"
     ]
    },
    {
     "data": {
      "text/plain": [
       "(43004, 65)"
      ]
     },
     "execution_count": 5,
     "metadata": {},
     "output_type": "execute_result"
    }
   ],
   "source": [
    "from sklearn.preprocessing import Imputer\n",
    "\n",
    "# replacing '?' with NaN\n",
    "dataframe = dataframe.replace('?', np.NaN)\n",
    "print(dataframe.isnull().values.any())\n",
    "\n",
    "# imputing NaN with median\n",
    "imp_mean = Imputer(missing_values=np.NaN, strategy='median', axis=1)\n",
    "imputed_dataframe = pd.DataFrame(imp_mean.fit_transform(dataframe))\n",
    "imputed_dataframe.columns = dataframe.columns \n",
    "imputed_dataframe.index = dataframe.index\n",
    "\n",
    "print(imputed_dataframe.isnull().values.any())\n",
    "imputed_dataframe.shape"
   ]
  },
  {
   "cell_type": "markdown",
   "metadata": {},
   "source": [
    "# EDA"
   ]
  },
  {
   "cell_type": "markdown",
   "metadata": {},
   "source": [
    "The columns _X1,X2,X3,X4,X48,X49_ seem to be important as they represent the following :\n",
    "* net profit / total assets \n",
    "* total liabilities / total assets \n",
    "* working capital / total assets\n",
    "* current assets / short-term liabilities\n",
    "* (profit on operating activities - depreciation) / total assets \n",
    "* (profit on operating activities - depreciation) / sales \n",
    "\n",
    "Except for _X55_ and _X62_, all the other features have values in a range."
   ]
  },
  {
   "cell_type": "markdown",
   "metadata": {},
   "source": [
    "### BOXPLOTS"
   ]
  },
  {
   "cell_type": "code",
   "execution_count": 6,
   "metadata": {},
   "outputs": [
    {
     "name": "stdout",
     "output_type": "stream",
     "text": [
      "(94.280000000000001, -463.88999999999999)\n",
      "(480.95999999999998, -430.87)\n",
      "(28.335999999999999, -479.95999999999998)\n",
      "(53433.0, -0.40311000000000002)\n",
      "(623.85000000000002, -542.55999999999995)\n",
      "(178.88999999999999, -9001.0)\n",
      "(180440.0, -3828.9000000000001)\n",
      "(25016000.0, -2336500.0)\n"
     ]
    }
   ],
   "source": [
    "columns = ['X1','X2','X3','X4','X48','X49','X53','X62']\n",
    "for i in columns:\n",
    "    print(imputed_dataframe[i].max(), imputed_dataframe[i].min())"
   ]
  },
  {
   "cell_type": "code",
   "execution_count": 7,
   "metadata": {},
   "outputs": [
    {
     "data": {
      "image/png": "[encoded data removed]",
      "text/plain": [
       "<matplotlib.figure.Figure at 0x7ff2568a55d0>"
      ]
     },
     "metadata": {},
     "output_type": "display_data"
    },
    {
     "data": {
      "image/png": "[encoded data removed]",
      "text/plain": [
       "<matplotlib.figure.Figure at 0x7ff25500f910>"
      ]
     },
     "metadata": {},
     "output_type": "display_data"
    },
    {
     "data": {
      "image/png": "[encoded data removed]",
      "text/plain": [
       "<matplotlib.figure.Figure at 0x7ff24f2ad350>"
      ]
     },
     "metadata": {},
     "output_type": "display_data"
    },
    {
     "data": {
      "image/png": "[encoded data removed]",
      "text/plain": [
       "<matplotlib.figure.Figure at 0x7ff24f0ff6d0>"
      ]
     },
     "metadata": {},
     "output_type": "display_data"
    }
   ],
   "source": [
    "facet = None\n",
    "for i in range(0,len(columns),2):\n",
    "    if len(columns) > i+1:\n",
    "        plt.figure(figsize=(10,4))\n",
    "        plt.subplot(121)\n",
    "        sns.boxplot(facet, columns[i],data = imputed_dataframe)\n",
    "        plt.subplot(122)            \n",
    "        sns.boxplot(facet, columns[i+1],data = imputed_dataframe)\n",
    "        plt.tight_layout()\n",
    "        plt.show()\n",
    "\n",
    "    else:\n",
    "        sns.boxplot(facet, num_cols[i],data = imputed_dataframe)"
   ]
  },
  {
   "cell_type": "code",
   "execution_count": 8,
   "metadata": {},
   "outputs": [
    {
     "data": {
      "text/plain": [
       "(42987, 65)"
      ]
     },
     "execution_count": 8,
     "metadata": {},
     "output_type": "execute_result"
    }
   ],
   "source": [
    "# Removing the outliers\n",
    "\n",
    "# imputed_dataframe = imputed_dataframe.drop(imputed_dataframe[(imputed_dataframe['X1']<-400)].index)\n",
    "imputed_dataframe = imputed_dataframe.drop(imputed_dataframe[(imputed_dataframe['X2']>400)].index)\n",
    "imputed_dataframe = imputed_dataframe.drop(imputed_dataframe[(imputed_dataframe['X3']<-300)].index)\n",
    "imputed_dataframe = imputed_dataframe.drop(imputed_dataframe[(imputed_dataframe['X4']>50000)].index)\n",
    "imputed_dataframe = imputed_dataframe.drop(imputed_dataframe[(imputed_dataframe['X48']>600) | (imputed_dataframe['X48']<-600)].index)\n",
    "imputed_dataframe = imputed_dataframe.drop(imputed_dataframe[(imputed_dataframe['X49']<-8000)].index)\n",
    "imputed_dataframe = imputed_dataframe.drop(imputed_dataframe[(imputed_dataframe['X53']>50000)].index)\n",
    "imputed_dataframe = imputed_dataframe.drop(imputed_dataframe[(imputed_dataframe['X62']>2016000.0) | (imputed_dataframe['X48']<-1536500.0)].index)\n",
    "imputed_dataframe.shape"
   ]
  },
  {
   "cell_type": "markdown",
   "metadata": {},
   "source": [
    "### HEATMAP"
   ]
  },
  {
   "cell_type": "code",
   "execution_count": 9,
   "metadata": {
    "scrolled": false
   },
   "outputs": [
    {
     "data": {
      "image/png": "[encoded data removed]",
      "text/plain": [
       "<matplotlib.figure.Figure at 0x7ff24f09ea90>"
      ]
     },
     "metadata": {},
     "output_type": "display_data"
    },
    {
     "data": {
      "text/plain": [
       "(42987, 65)"
      ]
     },
     "execution_count": 9,
     "metadata": {},
     "output_type": "execute_result"
    }
   ],
   "source": [
    "plt.figure(figsize=(12,8))\n",
    "sns.heatmap(imputed_dataframe.corr(), cmap='cool')\n",
    "plt.show()\n",
    "imputed_dataframe.shape"
   ]
  },
  {
   "cell_type": "markdown",
   "metadata": {},
   "source": [
    "There are too many **DARK PINK** patches showing highly positive correlation.\n",
    "Similarily, there are many **LIGHT BLUISH** patches indicating higly negative correlatioin.\n",
    "\n",
    "It is very much required to remove these highly correlated data."
   ]
  },
  {
   "cell_type": "code",
   "execution_count": 10,
   "metadata": {
    "scrolled": false
   },
   "outputs": [],
   "source": [
    "# for i in imputed_dataframe.columns:\n",
    "#     imputed_dataframe[i] = np.sqrt(imputed_dataframe[i])\n",
    "# plt.figure(figsize=(12,8))\n",
    "# sns.heatmap(imputed_dataframe.corr(), cmap='cool')\n",
    "# plt.show()"
   ]
  },
  {
   "cell_type": "markdown",
   "metadata": {},
   "source": [
    "Standardization is necessary as some columns are in % and some are in $, whereas some are in years."
   ]
  },
  {
   "cell_type": "markdown",
   "metadata": {},
   "source": [
    "# Feature Engineering\n",
    "\n",
    "###  Interaction Features\n",
    "\n",
    "The capital of a business which is used in its day-to-day trading operations, calculated as the current assets minus the current liabilities.\n",
    "* X55 : working capital\n",
    "* X4 : current assets\n",
    "\n",
    "So, a new feature **current liabilities** can be added.  \n",
    "\n",
    "#### X10 and X25 can be combined to get a new feature share capital/total assets."
   ]
  },
  {
   "cell_type": "code",
   "execution_count": 15,
   "metadata": {},
   "outputs": [
    {
     "data": {
      "text/plain": [
       "(42987, 66)"
      ]
     },
     "execution_count": 15,
     "metadata": {},
     "output_type": "execute_result"
    }
   ],
   "source": [
    "imputed_dataframe.loc[:,'X66'] = pd.Series(imputed_dataframe['X10'] - imputed_dataframe['X25'], \n",
    "                                           index=imputed_dataframe.index)\n",
    "imputed_dataframe.shape"
   ]
  },
  {
   "cell_type": "markdown",
   "metadata": {},
   "source": [
    "### Indicator Variables"
   ]
  },
  {
   "cell_type": "markdown",
   "metadata": {},
   "source": [
    "# Feature Selection\n"
   ]
  }
 ],
 "metadata": {
  "kernelspec": {
   "display_name": "Python 2",
   "language": "python",
   "name": "python2"
  },
  "language_info": {
   "codemirror_mode": {
    "name": "ipython",
    "version": 2
   },
   "file_extension": ".py",
   "mimetype": "text/x-python",
   "name": "python",
   "nbconvert_exporter": "python",
   "pygments_lexer": "ipython2",
   "version": "2.7.13"
  }
 },
 "nbformat": 4,
 "nbformat_minor": 2
}
